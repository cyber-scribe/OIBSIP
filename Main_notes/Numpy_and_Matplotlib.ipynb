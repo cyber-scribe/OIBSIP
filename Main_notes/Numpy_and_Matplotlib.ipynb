{
  "cells": [
    {
      "cell_type": "markdown",
      "metadata": {
        "id": "na0dPZT5ffRf"
      },
      "source": [
        "# Numpy"
      ]
    },
    {
      "cell_type": "code",
      "execution_count": null,
      "metadata": {
        "id": "brFl0b3ZfBt1"
      },
      "outputs": [],
      "source": [
        "# mass  = 40kg\n",
        "# acc = 10m/s2\n",
        "# force = mass*acc => force = 40*10 => force = 400N"
      ]
    },
    {
      "cell_type": "code",
      "execution_count": null,
      "metadata": {
        "colab": {
          "base_uri": "https://localhost:8080/"
        },
        "id": "KtImbzyUfhik",
        "outputId": "05830912-87ed-432a-f8ce-4e278bd6acbc"
      },
      "outputs": [
        {
          "data": {
            "text/plain": [
              "[20, 60, 150, 280, 550]"
            ]
          },
          "execution_count": 1,
          "metadata": {},
          "output_type": "execute_result"
        }
      ],
      "source": [
        "masses = [10, 20, 30, 40, 50]\n",
        "accs = [2, 3, 5, 7, 11]\n",
        "# forces = [?, ?, ?, ?]\n",
        "forces = []\n",
        "for i in range(len(masses)):\n",
        "  forces.append(masses[i]*accs[i])\n",
        "forces"
      ]
    },
    {
      "cell_type": "code",
      "execution_count": null,
      "metadata": {
        "id": "ZwzkC1fqguCb"
      },
      "outputs": [],
      "source": [
        "masses = [10, 20, 30, 40, 50]\n",
        "accs = [2, 3, 5, 7, 11]\n",
        "\n",
        "force = masses * accs\n",
        "force\n",
        "type(masses)"
      ]
    },
    {
      "cell_type": "code",
      "execution_count": null,
      "metadata": {
        "id": "eSVdN3aFhDEK"
      },
      "outputs": [],
      "source": [
        "import numpy as np"
      ]
    },
    {
      "cell_type": "code",
      "execution_count": null,
      "metadata": {
        "id": "gQuXAXcDhK31"
      },
      "outputs": [],
      "source": [
        "ma_np = np.array([10, 20, 30, 40, 50])\n",
        "acc_np = np.array([2, 3, 5, 7, 11])\n",
        "forces  = ma_np*acc_np\n",
        "print(forces)"
      ]
    },
    {
      "cell_type": "code",
      "execution_count": null,
      "metadata": {
        "id": "hSptQ0eihKwD"
      },
      "outputs": [],
      "source": [
        "x = np.array([10, 20, 30, 40, 50])\n",
        "y = np.array([2, 3, 5, 7, 11])\n",
        "print(x*y)\n",
        "print(x+y)\n",
        "print(x-y)\n",
        "print(x%y)"
      ]
    },
    {
      "cell_type": "code",
      "execution_count": null,
      "metadata": {
        "id": "lo9irCjciDeO"
      },
      "outputs": [],
      "source": [
        "#1 .array()\n",
        "x = np.array([1, 2,3, 4])\n",
        "print(x)"
      ]
    },
    {
      "cell_type": "code",
      "execution_count": null,
      "metadata": {
        "id": "ueHy4SaRja53"
      },
      "outputs": [],
      "source": [
        "y = np.array([[1, 2,3, 4], [3, 6, 8, 9]])\n",
        "print(y)"
      ]
    },
    {
      "cell_type": "code",
      "execution_count": null,
      "metadata": {
        "id": "TE3lG1_ijokI"
      },
      "outputs": [],
      "source": [
        "z = np.array([[1, 2,3, 4], [3, 6.9, 8, 9], [3, 6, 8, 9]], dtype=float)\n",
        "print(z)"
      ]
    },
    {
      "cell_type": "code",
      "execution_count": null,
      "metadata": {
        "id": "iKQmTCgUjz3l"
      },
      "outputs": [],
      "source": [
        "# 2. .zeros()\n",
        "x = np.zeros(5)\n",
        "x"
      ]
    },
    {
      "cell_type": "code",
      "execution_count": null,
      "metadata": {
        "id": "pgJZgmnAkB6t"
      },
      "outputs": [],
      "source": [
        "x = np.zeros((4, 6))\n",
        "x"
      ]
    },
    {
      "cell_type": "code",
      "execution_count": null,
      "metadata": {
        "colab": {
          "base_uri": "https://localhost:8080/"
        },
        "collapsed": true,
        "id": "UM2zsIhIkEDp",
        "outputId": "d0574eda-e5e9-4712-df53-9b1495f96442"
      },
      "outputs": [
        {
          "data": {
            "text/plain": [
              "array([1., 1., 1., 1., 1.])"
            ]
          },
          "execution_count": 14,
          "metadata": {},
          "output_type": "execute_result"
        }
      ],
      "source": [
        "# 3. .ones()\n",
        "x = np.ones(5)\n",
        "x"
      ]
    },
    {
      "cell_type": "code",
      "execution_count": null,
      "metadata": {
        "colab": {
          "base_uri": "https://localhost:8080/"
        },
        "id": "JSE4cnY8kL-B",
        "outputId": "e24c366d-3e98-4be5-e068-7a106fdee8b3"
      },
      "outputs": [
        {
          "data": {
            "text/plain": [
              "array([[1, 1, 1, 1, 1, 1],\n",
              "       [1, 1, 1, 1, 1, 1],\n",
              "       [1, 1, 1, 1, 1, 1],\n",
              "       [1, 1, 1, 1, 1, 1]])"
            ]
          },
          "execution_count": 15,
          "metadata": {},
          "output_type": "execute_result"
        }
      ],
      "source": [
        "x = np.ones((4, 6), dtype=int)\n",
        "x"
      ]
    },
    {
      "cell_type": "code",
      "execution_count": null,
      "metadata": {
        "colab": {
          "base_uri": "https://localhost:8080/"
        },
        "id": "-XBmYV8AkO_G",
        "outputId": "00e0c018-ca9a-455a-c333-8b74e84a53aa"
      },
      "outputs": [
        {
          "data": {
            "text/plain": [
              "array([0, 1, 2, 3, 4, 5, 6, 7, 8, 9])"
            ]
          },
          "execution_count": 16,
          "metadata": {},
          "output_type": "execute_result"
        }
      ],
      "source": [
        "# .arange()\n",
        "x = np.arange(10)\n",
        "x"
      ]
    },
    {
      "cell_type": "code",
      "execution_count": null,
      "metadata": {
        "colab": {
          "base_uri": "https://localhost:8080/"
        },
        "id": "6Lvz6wqmkdnC",
        "outputId": "348bab43-532c-4054-c176-f407feae5438"
      },
      "outputs": [
        {
          "data": {
            "text/plain": [
              "array([ 4,  5,  6,  7,  8,  9, 10, 11, 12, 13, 14])"
            ]
          },
          "execution_count": 17,
          "metadata": {},
          "output_type": "execute_result"
        }
      ],
      "source": [
        "x = np.arange(4, 15)\n",
        "x"
      ]
    },
    {
      "cell_type": "code",
      "execution_count": null,
      "metadata": {
        "colab": {
          "base_uri": "https://localhost:8080/"
        },
        "id": "jw8nxtspkli2",
        "outputId": "fa314014-1b92-4228-f722-dd0698091c76"
      },
      "outputs": [
        {
          "data": {
            "text/plain": [
              "array([ 4,  6,  8, 10, 12, 14, 16, 18, 20, 22, 24])"
            ]
          },
          "execution_count": 18,
          "metadata": {},
          "output_type": "execute_result"
        }
      ],
      "source": [
        "x = np.arange(4, 25, 2)\n",
        "x"
      ]
    },
    {
      "cell_type": "code",
      "execution_count": null,
      "metadata": {
        "colab": {
          "base_uri": "https://localhost:8080/"
        },
        "id": "i0y8cYiuktPX",
        "outputId": "f8bdad7f-46ca-4e25-d00f-898daa90ee31"
      },
      "outputs": [
        {
          "data": {
            "text/plain": [
              "array([0.        , 0.11111111, 0.22222222, 0.33333333, 0.44444444,\n",
              "       0.55555556, 0.66666667, 0.77777778, 0.88888889, 1.        ])"
            ]
          },
          "execution_count": 23,
          "metadata": {},
          "output_type": "execute_result"
        }
      ],
      "source": [
        "#5. linespace()\n",
        "x = np.linspace(0, 1, 10)\n",
        "x"
      ]
    },
    {
      "cell_type": "markdown",
      "metadata": {
        "id": "mPl1MVI8lYlq"
      },
      "source": [
        "## Methods of numpy"
      ]
    },
    {
      "cell_type": "code",
      "execution_count": null,
      "metadata": {
        "colab": {
          "base_uri": "https://localhost:8080/"
        },
        "id": "-Oyy5KHkk-g2",
        "outputId": "51e8c7c0-e4f8-42c8-c05b-52d8591d4ca7"
      },
      "outputs": [
        {
          "data": {
            "text/plain": [
              "6"
            ]
          },
          "execution_count": 26,
          "metadata": {},
          "output_type": "execute_result"
        }
      ],
      "source": [
        "# 1. size : return the total element counts\n",
        "x = np.arange(2, 19, 3)\n",
        "x.size"
      ]
    },
    {
      "cell_type": "code",
      "execution_count": null,
      "metadata": {
        "colab": {
          "base_uri": "https://localhost:8080/"
        },
        "id": "_ZgrJE3vlcMH",
        "outputId": "2d76245f-d265-429d-dc2c-f94f5e4043bd"
      },
      "outputs": [
        {
          "data": {
            "text/plain": [
              "array([[0, 0, 0, 0, 0, 0],\n",
              "       [0, 0, 0, 0, 0, 0],\n",
              "       [0, 0, 0, 0, 0, 0],\n",
              "       [0, 0, 0, 0, 0, 0]])"
            ]
          },
          "execution_count": 27,
          "metadata": {},
          "output_type": "execute_result"
        }
      ],
      "source": [
        "x = np.zeros((4, 6), dtype=int)\n",
        "x"
      ]
    },
    {
      "cell_type": "code",
      "execution_count": null,
      "metadata": {
        "colab": {
          "base_uri": "https://localhost:8080/"
        },
        "id": "3GroCooElrrP",
        "outputId": "238e96b1-6e6d-47a3-bb32-dd66801fa921"
      },
      "outputs": [
        {
          "data": {
            "text/plain": [
              "24"
            ]
          },
          "execution_count": 28,
          "metadata": {},
          "output_type": "execute_result"
        }
      ],
      "source": [
        "x.size"
      ]
    },
    {
      "cell_type": "code",
      "execution_count": null,
      "metadata": {
        "colab": {
          "base_uri": "https://localhost:8080/"
        },
        "id": "_hPgjVhVls_Q",
        "outputId": "1888bcaf-937a-4282-ffb0-7b4c4258688f"
      },
      "outputs": [
        {
          "data": {
            "text/plain": [
              "array([[0, 0, 0, 0, 0, 0],\n",
              "       [0, 0, 0, 0, 0, 0],\n",
              "       [0, 0, 0, 0, 0, 0],\n",
              "       [0, 0, 0, 0, 0, 0]])"
            ]
          },
          "execution_count": 29,
          "metadata": {},
          "output_type": "execute_result"
        }
      ],
      "source": [
        "# 2. shape\n",
        "x = np.zeros((4, 6), dtype=int)\n",
        "x"
      ]
    },
    {
      "cell_type": "code",
      "execution_count": null,
      "metadata": {
        "colab": {
          "base_uri": "https://localhost:8080/"
        },
        "id": "P390Z3Rwl4zN",
        "outputId": "bf289d61-61df-48ad-9be9-d7cd366dbfe0"
      },
      "outputs": [
        {
          "data": {
            "text/plain": [
              "(4, 6)"
            ]
          },
          "execution_count": 30,
          "metadata": {},
          "output_type": "execute_result"
        }
      ],
      "source": [
        "x.shape"
      ]
    },
    {
      "cell_type": "code",
      "execution_count": null,
      "metadata": {
        "colab": {
          "base_uri": "https://localhost:8080/"
        },
        "id": "y9YWNYoil6G7",
        "outputId": "0cb6780d-d450-48fc-9673-0ee98a613883"
      },
      "outputs": [
        {
          "data": {
            "text/plain": [
              "array([ 2,  5,  8, 11, 14, 17])"
            ]
          },
          "execution_count": 31,
          "metadata": {},
          "output_type": "execute_result"
        }
      ],
      "source": [
        "x = np.arange(2, 19, 3)\n",
        "x"
      ]
    },
    {
      "cell_type": "code",
      "execution_count": null,
      "metadata": {
        "colab": {
          "base_uri": "https://localhost:8080/"
        },
        "id": "p5LohRRVl9p0",
        "outputId": "5edbc242-1c97-487f-e0cc-49191ff3c727"
      },
      "outputs": [
        {
          "data": {
            "text/plain": [
              "(6,)"
            ]
          },
          "execution_count": 32,
          "metadata": {},
          "output_type": "execute_result"
        }
      ],
      "source": [
        "x.shape"
      ]
    },
    {
      "cell_type": "code",
      "execution_count": null,
      "metadata": {
        "colab": {
          "base_uri": "https://localhost:8080/"
        },
        "id": "WP-vN9zzl-d0",
        "outputId": "facecbff-0229-47dd-a9c8-9a25c15d91a8"
      },
      "outputs": [
        {
          "data": {
            "text/plain": [
              "array([ 0,  1,  2,  3,  4,  5,  6,  7,  8,  9, 10, 11])"
            ]
          },
          "execution_count": 33,
          "metadata": {},
          "output_type": "execute_result"
        }
      ],
      "source": [
        "# 4. reshape\n",
        "x  = np.arange(12)\n",
        "x"
      ]
    },
    {
      "cell_type": "code",
      "execution_count": null,
      "metadata": {
        "colab": {
          "base_uri": "https://localhost:8080/"
        },
        "id": "2wNR4v8omUAq",
        "outputId": "b1017c7f-3b28-4fa9-c9ee-d40f5d65cc18"
      },
      "outputs": [
        {
          "data": {
            "text/plain": [
              "(12,)"
            ]
          },
          "execution_count": 34,
          "metadata": {},
          "output_type": "execute_result"
        }
      ],
      "source": [
        "x.shape"
      ]
    },
    {
      "cell_type": "code",
      "execution_count": null,
      "metadata": {
        "colab": {
          "base_uri": "https://localhost:8080/"
        },
        "id": "JmKBYtrVmelx",
        "outputId": "faa0d09c-773e-4e27-966c-da449b955eeb"
      },
      "outputs": [
        {
          "name": "stdout",
          "output_type": "stream",
          "text": [
            "[[ 0  1]\n",
            " [ 2  3]\n",
            " [ 4  5]\n",
            " [ 6  7]\n",
            " [ 8  9]\n",
            " [10 11]]\n"
          ]
        }
      ],
      "source": [
        "print(x.reshape(6,2))"
      ]
    },
    {
      "cell_type": "code",
      "execution_count": null,
      "metadata": {
        "colab": {
          "base_uri": "https://localhost:8080/"
        },
        "id": "5cSXR8AUnGrP",
        "outputId": "d6610bf6-34d6-4d0b-ffbe-2bcd71bab0ad"
      },
      "outputs": [
        {
          "name": "stdout",
          "output_type": "stream",
          "text": [
            "[ 0  1  2  3  4  5  6  7  8  9 10 11]\n"
          ]
        }
      ],
      "source": [
        "print(x)"
      ]
    },
    {
      "cell_type": "code",
      "execution_count": null,
      "metadata": {
        "colab": {
          "base_uri": "https://localhost:8080/"
        },
        "id": "6mg8ybgNmtsp",
        "outputId": "ac615028-d4b6-4c28-ee3a-c68d878171ab"
      },
      "outputs": [
        {
          "data": {
            "text/plain": [
              "array([ 0,  1,  2,  3,  4,  5,  6,  7,  8,  9, 10, 11])"
            ]
          },
          "execution_count": 37,
          "metadata": {},
          "output_type": "execute_result"
        }
      ],
      "source": [
        "# 4. resize\n",
        "y  = np.arange(12)\n",
        "y"
      ]
    },
    {
      "cell_type": "code",
      "execution_count": null,
      "metadata": {
        "colab": {
          "base_uri": "https://localhost:8080/"
        },
        "id": "ZiqF2ZCLm4y6",
        "outputId": "41ad64f0-01ce-4561-de24-45be5e7d34cd"
      },
      "outputs": [
        {
          "name": "stdout",
          "output_type": "stream",
          "text": [
            "None\n"
          ]
        }
      ],
      "source": [
        "print(y.resize(6,2))"
      ]
    },
    {
      "cell_type": "code",
      "execution_count": null,
      "metadata": {
        "colab": {
          "base_uri": "https://localhost:8080/"
        },
        "id": "ijhVXmUCm8kZ",
        "outputId": "170b652a-2637-4ef9-a267-01a4684bbd4f"
      },
      "outputs": [
        {
          "data": {
            "text/plain": [
              "array([[ 0,  1],\n",
              "       [ 2,  3],\n",
              "       [ 4,  5],\n",
              "       [ 6,  7],\n",
              "       [ 8,  9],\n",
              "       [10, 11]])"
            ]
          },
          "execution_count": 39,
          "metadata": {},
          "output_type": "execute_result"
        }
      ],
      "source": [
        "y"
      ]
    },
    {
      "cell_type": "markdown",
      "metadata": {
        "id": "Ns8wA73Inkyl"
      },
      "source": [
        "#slice"
      ]
    },
    {
      "cell_type": "code",
      "execution_count": null,
      "metadata": {
        "colab": {
          "base_uri": "https://localhost:8080/"
        },
        "id": "kbe8dcbInQQO",
        "outputId": "9f79dfeb-5eac-49e5-9c32-d102626b47e3"
      },
      "outputs": [
        {
          "data": {
            "text/plain": [
              "array([ 0,  1,  2,  3,  4,  5,  6,  7,  8,  9, 10, 11])"
            ]
          },
          "execution_count": 40,
          "metadata": {},
          "output_type": "execute_result"
        }
      ],
      "source": [
        "p = np.arange(12)\n",
        "p"
      ]
    },
    {
      "cell_type": "code",
      "execution_count": null,
      "metadata": {
        "colab": {
          "base_uri": "https://localhost:8080/"
        },
        "id": "1vsst_cCnssq",
        "outputId": "1ee33c84-c299-4b76-85c0-d226d73fd541"
      },
      "outputs": [
        {
          "data": {
            "text/plain": [
              "0"
            ]
          },
          "execution_count": 41,
          "metadata": {},
          "output_type": "execute_result"
        }
      ],
      "source": [
        "p[0]"
      ]
    },
    {
      "cell_type": "code",
      "execution_count": null,
      "metadata": {
        "colab": {
          "base_uri": "https://localhost:8080/"
        },
        "id": "Wsn7yb_3nwmY",
        "outputId": "c20eceef-2b3d-44c1-9fa8-8ec6c65411af"
      },
      "outputs": [
        {
          "data": {
            "text/plain": [
              "5"
            ]
          },
          "execution_count": 42,
          "metadata": {},
          "output_type": "execute_result"
        }
      ],
      "source": [
        "p[5]"
      ]
    },
    {
      "cell_type": "code",
      "execution_count": null,
      "metadata": {
        "colab": {
          "base_uri": "https://localhost:8080/"
        },
        "id": "5FGBRCyGnxal",
        "outputId": "11804ef1-c575-4fee-8faf-83cb533ff4ab"
      },
      "outputs": [
        {
          "data": {
            "text/plain": [
              "array([3, 4, 5, 6, 7, 8])"
            ]
          },
          "execution_count": 43,
          "metadata": {},
          "output_type": "execute_result"
        }
      ],
      "source": [
        "p[3:9]"
      ]
    },
    {
      "cell_type": "code",
      "execution_count": null,
      "metadata": {
        "colab": {
          "base_uri": "https://localhost:8080/"
        },
        "id": "0FHD0sLkn2Ya",
        "outputId": "0d895485-1648-499c-d80c-49b0edc86ced"
      },
      "outputs": [
        {
          "data": {
            "text/plain": [
              "array([ 3,  4,  5,  6,  7,  8,  9, 10, 11])"
            ]
          },
          "execution_count": 44,
          "metadata": {},
          "output_type": "execute_result"
        }
      ],
      "source": [
        "p[3:]"
      ]
    },
    {
      "cell_type": "code",
      "execution_count": null,
      "metadata": {
        "colab": {
          "base_uri": "https://localhost:8080/"
        },
        "id": "2qjF9Oqrn5Ie",
        "outputId": "430d1172-56e1-42fa-e0b4-99a7f14d8387"
      },
      "outputs": [
        {
          "data": {
            "text/plain": [
              "array([0, 1, 2, 3, 4])"
            ]
          },
          "execution_count": 45,
          "metadata": {},
          "output_type": "execute_result"
        }
      ],
      "source": [
        "p[:5]"
      ]
    },
    {
      "cell_type": "code",
      "execution_count": null,
      "metadata": {
        "colab": {
          "base_uri": "https://localhost:8080/"
        },
        "id": "ByvcvWJPn7o8",
        "outputId": "3c1d6eea-b3b9-4dd2-de4e-04e0d7c355b9"
      },
      "outputs": [
        {
          "data": {
            "text/plain": [
              "array([ 0,  1,  2,  3,  4,  5,  6,  7,  8,  9, 10, 11])"
            ]
          },
          "execution_count": 46,
          "metadata": {},
          "output_type": "execute_result"
        }
      ],
      "source": [
        "p[:]"
      ]
    },
    {
      "cell_type": "code",
      "execution_count": null,
      "metadata": {
        "colab": {
          "base_uri": "https://localhost:8080/"
        },
        "id": "HphqUm95n-V9",
        "outputId": "02642b17-6a62-4572-fd75-fc5b7bba6cd2"
      },
      "outputs": [
        {
          "data": {
            "text/plain": [
              "11"
            ]
          },
          "execution_count": 47,
          "metadata": {},
          "output_type": "execute_result"
        }
      ],
      "source": [
        "p[-1]"
      ]
    },
    {
      "cell_type": "code",
      "execution_count": null,
      "metadata": {
        "colab": {
          "base_uri": "https://localhost:8080/"
        },
        "id": "7t7CvzQfoA4c",
        "outputId": "a0828b89-7c89-472c-8c76-cfb2e08d4767"
      },
      "outputs": [
        {
          "data": {
            "text/plain": [
              "array([6, 7])"
            ]
          },
          "execution_count": 48,
          "metadata": {},
          "output_type": "execute_result"
        }
      ],
      "source": [
        "p[-6:-4]"
      ]
    },
    {
      "cell_type": "code",
      "execution_count": null,
      "metadata": {
        "colab": {
          "base_uri": "https://localhost:8080/"
        },
        "id": "VdibNyZwoExl",
        "outputId": "1cedf01d-c81f-4faa-8c04-6f02ce26d5ab"
      },
      "outputs": [
        {
          "data": {
            "text/plain": [
              "array([1, 3, 5, 7, 9])"
            ]
          },
          "execution_count": 49,
          "metadata": {},
          "output_type": "execute_result"
        }
      ],
      "source": [
        "p[1:10:2]"
      ]
    },
    {
      "cell_type": "code",
      "execution_count": null,
      "metadata": {
        "colab": {
          "base_uri": "https://localhost:8080/"
        },
        "id": "8VRqTg8luS7f",
        "outputId": "55e4983f-b153-42af-d836-00f084bbcda4"
      },
      "outputs": [
        {
          "data": {
            "text/plain": [
              "array([ 0,  1,  2,  3,  4,  5,  6,  7,  8,  9, 10, 11])"
            ]
          },
          "execution_count": 50,
          "metadata": {},
          "output_type": "execute_result"
        }
      ],
      "source": [
        "p"
      ]
    },
    {
      "cell_type": "code",
      "execution_count": null,
      "metadata": {
        "colab": {
          "base_uri": "https://localhost:8080/"
        },
        "id": "eoxhPT6-oIcF",
        "outputId": "d940dff7-7b56-4e2f-c3c0-f258e64f9973"
      },
      "outputs": [
        {
          "name": "stdout",
          "output_type": "stream",
          "text": [
            "[False False False False False False  True  True  True  True  True  True]\n"
          ]
        }
      ],
      "source": [
        "#use operation\n",
        "boolp = p > 5\n",
        "print(boolp)"
      ]
    },
    {
      "cell_type": "code",
      "execution_count": null,
      "metadata": {
        "colab": {
          "base_uri": "https://localhost:8080/"
        },
        "id": "X623XIIKoQeL",
        "outputId": "5e7c8466-f4c5-44b7-a906-2013b8fdb8d0"
      },
      "outputs": [
        {
          "data": {
            "text/plain": [
              "array([ 6,  7,  8,  9, 10, 11])"
            ]
          },
          "execution_count": 52,
          "metadata": {},
          "output_type": "execute_result"
        }
      ],
      "source": [
        "p[boolp]"
      ]
    },
    {
      "cell_type": "code",
      "execution_count": null,
      "metadata": {
        "colab": {
          "base_uri": "https://localhost:8080/"
        },
        "id": "iVdAhmfmu0g_",
        "outputId": "dbef020a-b855-493b-bebe-503db4b97fbf"
      },
      "outputs": [
        {
          "data": {
            "text/plain": [
              "array([0, 1, 2, 3, 4])"
            ]
          },
          "execution_count": 53,
          "metadata": {},
          "output_type": "execute_result"
        }
      ],
      "source": [
        "p[p<5]"
      ]
    },
    {
      "cell_type": "code",
      "execution_count": null,
      "metadata": {
        "colab": {
          "base_uri": "https://localhost:8080/"
        },
        "id": "9iYmbnYHp0zF",
        "outputId": "3c67b7ec-cfce-40b2-944a-6be3dca0fb49"
      },
      "outputs": [
        {
          "data": {
            "text/plain": [
              "array([ 0,  1,  2,  3,  4,  5,  6,  7,  8,  9, 10, 11])"
            ]
          },
          "execution_count": 55,
          "metadata": {},
          "output_type": "execute_result"
        }
      ],
      "source": [
        "p"
      ]
    },
    {
      "cell_type": "code",
      "execution_count": null,
      "metadata": {
        "colab": {
          "base_uri": "https://localhost:8080/"
        },
        "id": "hlTnwKE2ostl",
        "outputId": "a7e289d4-3bc0-45c6-82ca-8b43af3e5b94"
      },
      "outputs": [
        {
          "data": {
            "text/plain": [
              "array([ True, False,  True, False,  True, False,  True, False,  True,\n",
              "       False,  True, False])"
            ]
          },
          "execution_count": 57,
          "metadata": {},
          "output_type": "execute_result"
        }
      ],
      "source": [
        "#use operation\n",
        "isEven = p%2 ==  0\n",
        "isEven"
      ]
    },
    {
      "cell_type": "code",
      "execution_count": null,
      "metadata": {
        "id": "fYPxl6nTo0uV"
      },
      "outputs": [],
      "source": [
        "temp = p[isEven]"
      ]
    },
    {
      "cell_type": "code",
      "execution_count": null,
      "metadata": {
        "colab": {
          "base_uri": "https://localhost:8080/"
        },
        "id": "oCaGw_sLtKU1",
        "outputId": "de8afcf5-018e-4f66-8d51-4e50fc77c82a"
      },
      "outputs": [
        {
          "data": {
            "text/plain": [
              "array([ 0, 10])"
            ]
          },
          "execution_count": 61,
          "metadata": {},
          "output_type": "execute_result"
        }
      ],
      "source": [
        "temp[temp % 5 == 0]\n"
      ]
    },
    {
      "cell_type": "markdown",
      "metadata": {
        "id": "i-MT4Te7pHC1"
      },
      "source": [
        "#slice in 2D"
      ]
    },
    {
      "cell_type": "code",
      "execution_count": null,
      "metadata": {
        "id": "QrJfAlRpo53J"
      },
      "outputs": [],
      "source": [
        "import numpy as np"
      ]
    },
    {
      "cell_type": "code",
      "execution_count": null,
      "metadata": {
        "colab": {
          "base_uri": "https://localhost:8080/"
        },
        "id": "usZlO4PIpLUW",
        "outputId": "fbeabd57-be95-4353-c408-4efb8c344a7a"
      },
      "outputs": [
        {
          "data": {
            "text/plain": [
              "array([ 0,  1,  2,  3,  4,  5,  6,  7,  8,  9, 10, 11, 12, 13, 14, 15, 16,\n",
              "       17, 18, 19, 20, 21, 22, 23])"
            ]
          },
          "execution_count": 63,
          "metadata": {},
          "output_type": "execute_result"
        }
      ],
      "source": [
        "p = np.arange(24)\n",
        "p"
      ]
    },
    {
      "cell_type": "code",
      "execution_count": null,
      "metadata": {
        "id": "ygzND7BPpQMb"
      },
      "outputs": [],
      "source": [
        "p2d = p.reshape(4, 6)"
      ]
    },
    {
      "cell_type": "code",
      "execution_count": null,
      "metadata": {
        "colab": {
          "base_uri": "https://localhost:8080/"
        },
        "id": "8fH6RrDPpVff",
        "outputId": "6d237823-53f2-4c1b-946d-a82f5c77442b"
      },
      "outputs": [
        {
          "data": {
            "text/plain": [
              "array([[ 0,  1,  2,  3,  4,  5],\n",
              "       [ 6,  7,  8,  9, 10, 11],\n",
              "       [12, 13, 14, 15, 16, 17],\n",
              "       [18, 19, 20, 21, 22, 23]])"
            ]
          },
          "execution_count": 65,
          "metadata": {},
          "output_type": "execute_result"
        }
      ],
      "source": [
        "p2d"
      ]
    },
    {
      "cell_type": "code",
      "execution_count": null,
      "metadata": {
        "colab": {
          "base_uri": "https://localhost:8080/"
        },
        "id": "x1WS_NbApWWc",
        "outputId": "412572f4-a65d-46cc-c1b5-36483cba7633"
      },
      "outputs": [
        {
          "data": {
            "text/plain": [
              "array([0, 1, 2, 3, 4, 5])"
            ]
          },
          "execution_count": 66,
          "metadata": {},
          "output_type": "execute_result"
        }
      ],
      "source": [
        "p2d[0]"
      ]
    },
    {
      "cell_type": "code",
      "execution_count": null,
      "metadata": {
        "colab": {
          "base_uri": "https://localhost:8080/"
        },
        "id": "gnMdWbxepZMP",
        "outputId": "f740bd34-d381-48bc-93c7-0c3bdb9b045f"
      },
      "outputs": [
        {
          "data": {
            "text/plain": [
              "array([12, 13, 14, 15, 16, 17])"
            ]
          },
          "execution_count": 67,
          "metadata": {},
          "output_type": "execute_result"
        }
      ],
      "source": [
        "p2d[2]"
      ]
    },
    {
      "cell_type": "code",
      "execution_count": null,
      "metadata": {
        "colab": {
          "base_uri": "https://localhost:8080/"
        },
        "id": "cfksT5chpc39",
        "outputId": "7ac9a0bc-90cd-41db-c54b-22b79d1377a5"
      },
      "outputs": [
        {
          "data": {
            "text/plain": [
              "15"
            ]
          },
          "execution_count": 68,
          "metadata": {},
          "output_type": "execute_result"
        }
      ],
      "source": [
        "p2d[2][3]"
      ]
    },
    {
      "cell_type": "code",
      "execution_count": null,
      "metadata": {
        "colab": {
          "base_uri": "https://localhost:8080/"
        },
        "id": "BFsccOo0phl9",
        "outputId": "4f3790bd-7bd6-4eb4-b3c0-fc6e26293cae"
      },
      "outputs": [
        {
          "data": {
            "text/plain": [
              "15"
            ]
          },
          "execution_count": 69,
          "metadata": {},
          "output_type": "execute_result"
        }
      ],
      "source": [
        "p2d[2, 3]"
      ]
    },
    {
      "cell_type": "code",
      "execution_count": null,
      "metadata": {
        "colab": {
          "base_uri": "https://localhost:8080/"
        },
        "id": "5Y0iXkOKplD0",
        "outputId": "de0c4c46-97b1-4887-abb7-52b273e8d00e"
      },
      "outputs": [
        {
          "data": {
            "text/plain": [
              "array([[ 6,  7,  8,  9, 10, 11],\n",
              "       [12, 13, 14, 15, 16, 17]])"
            ]
          },
          "execution_count": 70,
          "metadata": {},
          "output_type": "execute_result"
        }
      ],
      "source": [
        "p2d[1:3]"
      ]
    },
    {
      "cell_type": "code",
      "execution_count": null,
      "metadata": {
        "colab": {
          "base_uri": "https://localhost:8080/"
        },
        "id": "hTD8jMTUp-QL",
        "outputId": "5b9b0ae6-814d-4017-e412-c29e9ef0a332"
      },
      "outputs": [
        {
          "data": {
            "text/plain": [
              "array([[ 0,  1,  2,  3,  4,  5],\n",
              "       [ 6,  7,  8,  9, 10, 11],\n",
              "       [12, 13, 14, 15, 16, 17],\n",
              "       [18, 19, 20, 21, 22, 23]])"
            ]
          },
          "execution_count": 73,
          "metadata": {},
          "output_type": "execute_result"
        }
      ],
      "source": [
        "p2d"
      ]
    },
    {
      "cell_type": "code",
      "execution_count": null,
      "metadata": {
        "colab": {
          "base_uri": "https://localhost:8080/"
        },
        "id": "kn1OGzUnp-1I",
        "outputId": "80e29eba-768f-4c4f-a9d6-62c1025bc72f"
      },
      "outputs": [
        {
          "data": {
            "text/plain": [
              "array([[ 7,  8],\n",
              "       [13, 14]])"
            ]
          },
          "execution_count": 72,
          "metadata": {},
          "output_type": "execute_result"
        }
      ],
      "source": [
        "p2d[1:3, 1:3]"
      ]
    },
    {
      "cell_type": "code",
      "execution_count": null,
      "metadata": {
        "colab": {
          "base_uri": "https://localhost:8080/"
        },
        "id": "PxgRFzN5qTne",
        "outputId": "6905616a-1333-400d-9758-8b211e5b4bb2"
      },
      "outputs": [
        {
          "data": {
            "text/plain": [
              "array([[ 0,  2],\n",
              "       [12, 14]])"
            ]
          },
          "execution_count": 74,
          "metadata": {},
          "output_type": "execute_result"
        }
      ],
      "source": [
        "p2d[0:4:2, 0:4:2]"
      ]
    },
    {
      "cell_type": "code",
      "execution_count": null,
      "metadata": {
        "colab": {
          "base_uri": "https://localhost:8080/"
        },
        "id": "3p-HlVWwqXRV",
        "outputId": "8a3c7bdc-a7ab-4d4f-924a-9291d4729ae2"
      },
      "outputs": [
        {
          "data": {
            "text/plain": [
              "array([[ 0,  2,  4],\n",
              "       [12, 14, 16]])"
            ]
          },
          "execution_count": 75,
          "metadata": {},
          "output_type": "execute_result"
        }
      ],
      "source": [
        "p2d[::2, ::2]"
      ]
    },
    {
      "cell_type": "markdown",
      "metadata": {
        "id": "CZ_bO2Tcq4m6"
      },
      "source": [
        "# Linear Algebra"
      ]
    },
    {
      "cell_type": "code",
      "execution_count": null,
      "metadata": {
        "colab": {
          "base_uri": "https://localhost:8080/"
        },
        "id": "EUvxNPEQquGs",
        "outputId": "35ebf64b-ea2e-43b6-a880-1c0b9c615f43"
      },
      "outputs": [
        {
          "name": "stdout",
          "output_type": "stream",
          "text": [
            "[[1 2]\n",
            " [3 4]]\n",
            "[[3 4]\n",
            " [5 6]]\n"
          ]
        }
      ],
      "source": [
        "x = np.arange(1, 5).reshape(2,2)\n",
        "y = np.arange(3, 7).reshape(2,2)\n",
        "print(x)\n",
        "print(y)"
      ]
    },
    {
      "cell_type": "code",
      "execution_count": null,
      "metadata": {
        "colab": {
          "base_uri": "https://localhost:8080/"
        },
        "id": "DWO6s66VrHO7",
        "outputId": "c1aba07e-43d8-41bb-f5da-1910b0e29adc"
      },
      "outputs": [
        {
          "data": {
            "text/plain": [
              "array([[ 4,  6],\n",
              "       [ 8, 10]])"
            ]
          },
          "execution_count": 77,
          "metadata": {},
          "output_type": "execute_result"
        }
      ],
      "source": [
        "x+y"
      ]
    },
    {
      "cell_type": "code",
      "execution_count": null,
      "metadata": {
        "colab": {
          "base_uri": "https://localhost:8080/"
        },
        "id": "-SAEhzWOrJ2d",
        "outputId": "87d4efce-0faf-4111-afa2-c8eb1d75dcf4"
      },
      "outputs": [
        {
          "data": {
            "text/plain": [
              "array([[-2, -2],\n",
              "       [-2, -2]])"
            ]
          },
          "execution_count": 78,
          "metadata": {},
          "output_type": "execute_result"
        }
      ],
      "source": [
        "x -y"
      ]
    },
    {
      "cell_type": "code",
      "execution_count": null,
      "metadata": {
        "colab": {
          "base_uri": "https://localhost:8080/"
        },
        "id": "Lt7PrDl9rLm-",
        "outputId": "8032f772-664f-4f0d-d542-355ff002a8ee"
      },
      "outputs": [
        {
          "data": {
            "text/plain": [
              "array([[ 3,  8],\n",
              "       [15, 24]])"
            ]
          },
          "execution_count": 79,
          "metadata": {},
          "output_type": "execute_result"
        }
      ],
      "source": [
        "x*y"
      ]
    },
    {
      "cell_type": "code",
      "execution_count": null,
      "metadata": {
        "colab": {
          "base_uri": "https://localhost:8080/"
        },
        "id": "A_VzEhWrrNs3",
        "outputId": "73de0926-01c1-4cb1-dc7a-1bf0df5bddbe"
      },
      "outputs": [
        {
          "data": {
            "text/plain": [
              "array([[0.33333333, 0.5       ],\n",
              "       [0.6       , 0.66666667]])"
            ]
          },
          "execution_count": 80,
          "metadata": {},
          "output_type": "execute_result"
        }
      ],
      "source": [
        "x/y"
      ]
    },
    {
      "cell_type": "code",
      "execution_count": null,
      "metadata": {
        "colab": {
          "base_uri": "https://localhost:8080/"
        },
        "id": "TSigK8jvrOvZ",
        "outputId": "39ebc380-5e10-4b78-b550-61833acb101f"
      },
      "outputs": [
        {
          "data": {
            "text/plain": [
              "array([[13, 16],\n",
              "       [29, 36]])"
            ]
          },
          "execution_count": 81,
          "metadata": {},
          "output_type": "execute_result"
        }
      ],
      "source": [
        "np.dot(x,y)"
      ]
    },
    {
      "cell_type": "code",
      "execution_count": null,
      "metadata": {
        "colab": {
          "base_uri": "https://localhost:8080/"
        },
        "id": "HnHmbfNbrzCe",
        "outputId": "5519e708-df57-4771-a17a-94173deffbac"
      },
      "outputs": [
        {
          "data": {
            "text/plain": [
              "array([[1, 2],\n",
              "       [3, 4]])"
            ]
          },
          "execution_count": 83,
          "metadata": {},
          "output_type": "execute_result"
        }
      ],
      "source": [
        "x"
      ]
    },
    {
      "cell_type": "code",
      "execution_count": null,
      "metadata": {
        "colab": {
          "base_uri": "https://localhost:8080/"
        },
        "id": "aEfa1xv2r0Wv",
        "outputId": "ebed00fd-bc81-4c4c-c78f-16b9edb5022e"
      },
      "outputs": [
        {
          "data": {
            "text/plain": [
              "array([[1, 3],\n",
              "       [2, 4]])"
            ]
          },
          "execution_count": 84,
          "metadata": {},
          "output_type": "execute_result"
        }
      ],
      "source": [
        "x.T"
      ]
    },
    {
      "cell_type": "markdown",
      "metadata": {
        "id": "klFIsuVXvW_C"
      },
      "source": [
        "## Numpy statistics"
      ]
    },
    {
      "cell_type": "code",
      "execution_count": null,
      "metadata": {
        "id": "wFTWNZcmsIHJ"
      },
      "outputs": [],
      "source": [
        "#median, mean, standard deviation, variance"
      ]
    },
    {
      "cell_type": "code",
      "execution_count": null,
      "metadata": {
        "id": "R9NFkHf1vt11"
      },
      "outputs": [],
      "source": [
        "import numpy  as np"
      ]
    },
    {
      "cell_type": "code",
      "execution_count": null,
      "metadata": {
        "colab": {
          "base_uri": "https://localhost:8080/"
        },
        "id": "agtV6qo1v15a",
        "outputId": "d5258b99-7934-4735-81fe-47cc2689ad39"
      },
      "outputs": [
        {
          "data": {
            "text/plain": [
              "array([[1, 2, 3],\n",
              "       [4, 5, 6],\n",
              "       [7, 8, 9]])"
            ]
          },
          "execution_count": 89,
          "metadata": {},
          "output_type": "execute_result"
        }
      ],
      "source": [
        "data = np.arange(1, 10). reshape(3, 3)\n",
        "data"
      ]
    },
    {
      "cell_type": "code",
      "execution_count": null,
      "metadata": {
        "colab": {
          "base_uri": "https://localhost:8080/"
        },
        "id": "6Ytr91OJv8I6",
        "outputId": "29b16a14-ef49-415c-c1d9-c9084f13d360"
      },
      "outputs": [
        {
          "data": {
            "text/plain": [
              "5.0"
            ]
          },
          "execution_count": 90,
          "metadata": {},
          "output_type": "execute_result"
        }
      ],
      "source": [
        "#mean\n",
        "#method 1\n",
        "data.mean()"
      ]
    },
    {
      "cell_type": "code",
      "execution_count": null,
      "metadata": {
        "colab": {
          "base_uri": "https://localhost:8080/"
        },
        "id": "P2zWaJCHwDUo",
        "outputId": "5e31846d-9778-48e5-8590-74eebb5e41e2"
      },
      "outputs": [
        {
          "data": {
            "text/plain": [
              "5.0"
            ]
          },
          "execution_count": 91,
          "metadata": {},
          "output_type": "execute_result"
        }
      ],
      "source": [
        "#method 2\n",
        "np.mean(data)"
      ]
    },
    {
      "cell_type": "code",
      "execution_count": null,
      "metadata": {
        "colab": {
          "base_uri": "https://localhost:8080/"
        },
        "id": "sEA7yQR5wUAO",
        "outputId": "21901e78-99a6-4041-acce-5ff52ddb1fa8"
      },
      "outputs": [
        {
          "data": {
            "text/plain": [
              "array([2., 5., 8.])"
            ]
          },
          "execution_count": 92,
          "metadata": {},
          "output_type": "execute_result"
        }
      ],
      "source": [
        "np.mean(data, axis=1) # mean for all rows"
      ]
    },
    {
      "cell_type": "code",
      "execution_count": null,
      "metadata": {
        "colab": {
          "base_uri": "https://localhost:8080/"
        },
        "id": "M7ccRGrgw8mL",
        "outputId": "014e4254-d096-4de6-c156-36ec07bd3543"
      },
      "outputs": [
        {
          "data": {
            "text/plain": [
              "array([4., 5., 6.])"
            ]
          },
          "execution_count": 93,
          "metadata": {},
          "output_type": "execute_result"
        }
      ],
      "source": [
        "np.mean(data, axis=0) #mean for all cols"
      ]
    },
    {
      "cell_type": "code",
      "execution_count": null,
      "metadata": {
        "colab": {
          "base_uri": "https://localhost:8080/"
        },
        "id": "iNmwQJwxxEoc",
        "outputId": "c8280078-b2f5-4219-e419-66f16d65321c"
      },
      "outputs": [
        {
          "data": {
            "text/plain": [
              "5.0"
            ]
          },
          "execution_count": 94,
          "metadata": {},
          "output_type": "execute_result"
        }
      ],
      "source": [
        "np.median(data)"
      ]
    },
    {
      "cell_type": "code",
      "execution_count": null,
      "metadata": {
        "colab": {
          "base_uri": "https://localhost:8080/"
        },
        "id": "hJbZAf-nDDUb",
        "outputId": "c14a27d8-e4d2-4115-8bdf-4a786af5811e"
      },
      "outputs": [
        {
          "data": {
            "text/plain": [
              "array([2., 5., 8.])"
            ]
          },
          "execution_count": 95,
          "metadata": {},
          "output_type": "execute_result"
        }
      ],
      "source": [
        "np.median(data, axis=1) # median of rows"
      ]
    },
    {
      "cell_type": "code",
      "execution_count": null,
      "metadata": {
        "colab": {
          "base_uri": "https://localhost:8080/"
        },
        "id": "5uGKXB_ADKIr",
        "outputId": "36cef501-d3d9-4b4b-c229-d248a427fc08"
      },
      "outputs": [
        {
          "data": {
            "text/plain": [
              "array([4., 5., 6.])"
            ]
          },
          "execution_count": 96,
          "metadata": {},
          "output_type": "execute_result"
        }
      ],
      "source": [
        "np.median(data, axis=0) # median of cols"
      ]
    },
    {
      "cell_type": "markdown",
      "metadata": {
        "id": "RvDqCvi6zM2N"
      },
      "source": [
        "# Generating Data"
      ]
    },
    {
      "cell_type": "code",
      "execution_count": null,
      "metadata": {
        "colab": {
          "base_uri": "https://localhost:8080/"
        },
        "id": "X2Q0FK_4zI4a",
        "outputId": "f8dbf60c-560c-4450-b9ce-6f35f793ae34"
      },
      "outputs": [
        {
          "name": "stdout",
          "output_type": "stream",
          "text": [
            "[1.6  1.56 2.28 1.51 1.97 1.79 1.71 1.99 1.56 1.75]\n",
            "[45.99 56.03 66.32 48.2  37.09 57.78 86.89 78.27 46.14 62.21]\n"
          ]
        }
      ],
      "source": [
        "heights = np.random.normal(1.75, 0.20, 10)\n",
        "weights = np.random.normal(60.76, 15, 10)\n",
        "# print(weights)\n",
        "heights = np.round(heights, 2)\n",
        "weights = np.round(weights, 2)\n",
        "print(heights)\n",
        "print(weights)"
      ]
    },
    {
      "cell_type": "code",
      "execution_count": null,
      "metadata": {
        "colab": {
          "base_uri": "https://localhost:8080/"
        },
        "id": "B_tlR0ESF0f3",
        "outputId": "68c638ae-7d32-48bf-8f7f-179fc42a05ea"
      },
      "outputs": [
        {
          "data": {
            "text/plain": [
              "array([26,  4,  4, 77, 42, 40, 17, 10, 52, 11, 95, 37, 28, 21, 71, 46, 37,\n",
              "       43, 79, 72])"
            ]
          },
          "execution_count": 100,
          "metadata": {},
          "output_type": "execute_result"
        }
      ],
      "source": [
        "a =  np.random.randint(1, 101, 20)\n",
        "a"
      ]
    },
    {
      "cell_type": "code",
      "execution_count": null,
      "metadata": {
        "colab": {
          "base_uri": "https://localhost:8080/"
        },
        "id": "2kMy689XGuHS",
        "outputId": "fe9ffdd9-a059-4030-c292-72f9305f1acf"
      },
      "outputs": [
        {
          "data": {
            "text/plain": [
              "array([2, 2, 3, 3, 3, 1, 3, 2, 1, 2, 1, 3, 3, 1, 1, 1, 2, 1, 2, 1])"
            ]
          },
          "execution_count": 101,
          "metadata": {},
          "output_type": "execute_result"
        }
      ],
      "source": [
        "h = np.random.randint(1,4, 20)\n",
        "h"
      ]
    },
    {
      "cell_type": "code",
      "execution_count": null,
      "metadata": {
        "colab": {
          "base_uri": "https://localhost:8080/"
        },
        "id": "hLbwbqLrHBA8",
        "outputId": "78decd56-2c51-4937-a950-fbd45a7f9d19"
      },
      "outputs": [
        {
          "data": {
            "text/plain": [
              "array([1.507282  , 1.90297123, 1.35711221, 1.60994383, 1.5355254 ,\n",
              "       1.87025486, 1.71624517, 1.97881432, 1.93704854, 1.75353922,\n",
              "       1.75582497, 1.59599275, 1.77646223, 1.43537721, 1.58436171,\n",
              "       2.32917096, 1.52826631, 1.68024275, 1.54379476, 1.78200925])"
            ]
          },
          "execution_count": 102,
          "metadata": {},
          "output_type": "execute_result"
        }
      ],
      "source": [
        "h =  np.random.normal(1.75, 0.20 ,20)\n",
        "h"
      ]
    },
    {
      "cell_type": "code",
      "execution_count": null,
      "metadata": {
        "colab": {
          "base_uri": "https://localhost:8080/"
        },
        "id": "0WXvLi0JHa8j",
        "outputId": "30d77961-2132-44f5-e9b2-0fca06514a42"
      },
      "outputs": [
        {
          "data": {
            "text/plain": [
              "array([45.94540656, 50.64562962, 48.77321576, 51.23266695, 54.11923943,\n",
              "       50.84780776, 32.19077797, 91.6503564 , 57.22503686, 71.13675192,\n",
              "       51.38782359, 48.72004101, 47.462019  , 41.88114262, 32.10021981,\n",
              "       50.01946418, 29.13423961, 72.63052637, 60.33544947, 75.85910412])"
            ]
          },
          "execution_count": 103,
          "metadata": {},
          "output_type": "execute_result"
        }
      ],
      "source": [
        "h =  np.random.normal(55, 15 ,20)\n",
        "h"
      ]
    },
    {
      "cell_type": "code",
      "execution_count": null,
      "metadata": {
        "id": "zL4T5GN4DqPr"
      },
      "outputs": [],
      "source": [
        "#help(np.random.normal)"
      ]
    },
    {
      "cell_type": "markdown",
      "metadata": {
        "id": "NlI-eb-R0cPU"
      },
      "source": [
        "#Matplotlib"
      ]
    },
    {
      "cell_type": "code",
      "execution_count": null,
      "metadata": {
        "colab": {
          "background_save": true
        },
        "id": "UpeIx2puzkrb"
      },
      "outputs": [],
      "source": [
        "# import matplotlib.pyplot as plt\n",
        "from matplotlib import pyplot as plt\n"
      ]
    },
    {
      "cell_type": "code",
      "execution_count": null,
      "metadata": {
        "colab": {
          "base_uri": "https://localhost:8080/"
        },
        "id": "_Z4Ua37O1eRS",
        "outputId": "9b9faf97-ac37-4fa7-a74e-8a01854b16af"
      },
      "outputs": [
        {
          "name": "stdout",
          "output_type": "stream",
          "text": [
            "[1.64 2.19 2.   1.74 2.02 1.56 2.04 1.79 1.7  1.64]\n",
            "[34.34 72.66 71.27 91.94 55.19 45.53 63.06 77.4  75.1  43.27]\n"
          ]
        }
      ],
      "source": [
        "heights = np.random.normal(1.75, 0.20, 10)\n",
        "weights = np.random.normal(60.76, 15, 10)\n",
        "heights = np.round(heights, 2)\n",
        "weights = np.round(weights, 2)\n",
        "print(heights)\n",
        "print(weights)"
      ]
    },
    {
      "cell_type": "code",
      "execution_count": null,
      "metadata": {
        "colab": {
          "base_uri": "https://localhost:8080/",
          "height": 430
        },
        "id": "ZYIlBVNVIRCp",
        "outputId": "2c58c103-37ba-49a1-ecae-fa32f3a6ce06"
      },
      "outputs": [
        {
          "data": {
            "image/png": "[encoded data removed]",
            "text/plain": [
              "<Figure size 640x480 with 1 Axes>"
            ]
          },
          "metadata": {},
          "output_type": "display_data"
        }
      ],
      "source": [
        "x = [3, 4, 8]\n",
        "y = [2, 3, 6]\n",
        "plt.scatter(x, y)\n",
        "plt.show()"
      ]
    },
    {
      "cell_type": "code",
      "execution_count": null,
      "metadata": {
        "colab": {
          "base_uri": "https://localhost:8080/",
          "height": 430
        },
        "id": "2sUhHSfm0Xue",
        "outputId": "31680303-3a31-43fc-b50c-b56cedf2f49c"
      },
      "outputs": [
        {
          "data": {
            "image/png": "[encoded data removed]",
            "text/plain": [
              "<Figure size 640x480 with 1 Axes>"
            ]
          },
          "metadata": {},
          "output_type": "display_data"
        }
      ],
      "source": [
        "x = np.arange(-100, 100)\n",
        "y = x**2\n",
        "plt.scatter(x, y)\n",
        "plt.show()"
      ]
    },
    {
      "cell_type": "code",
      "execution_count": null,
      "metadata": {
        "colab": {
          "base_uri": "https://localhost:8080/",
          "height": 472
        },
        "id": "xKspOvdM0wPo",
        "outputId": "caef7696-8bad-482f-ee6e-c7164d09f775"
      },
      "outputs": [
        {
          "data": {
            "image/png": "[encoded data removed]",
            "text/plain": [
              "<Figure size 640x480 with 1 Axes>"
            ]
          },
          "metadata": {},
          "output_type": "display_data"
        }
      ],
      "source": [
        "# x = np.array([1, 11, 3])\n",
        "# y = np.array([-4, 2, 6])\n",
        "plt.scatter(heights, weights)\n",
        "plt.xlabel(\"Heights\")\n",
        "plt.ylabel(\"Weights\")\n",
        "plt.title(\"Heights/Weights of students\")\n",
        "plt.show()"
      ]
    },
    {
      "cell_type": "code",
      "execution_count": null,
      "metadata": {
        "id": "OkRBUsOJJfiE"
      },
      "outputs": [],
      "source": [
        "plt.plot(heights, weights)\n",
        "plt.xlabel(\"Heights\")\n",
        "plt.ylabel(\"Weights\")\n",
        "plt.title(\"Heights/Weights of students\")\n",
        "plt.show()"
      ]
    },
    {
      "cell_type": "code",
      "execution_count": null,
      "metadata": {
        "id": "w3WHtH7HJlUN"
      },
      "outputs": [],
      "source": [
        "plt.plot(heights)\n",
        "# plt.xlabel(\"Heights\")\n",
        "plt.ylabel(\"Heights\")\n",
        "plt.title(\"Heights/Weights of students\")\n",
        "plt.show()"
      ]
    },
    {
      "cell_type": "code",
      "execution_count": null,
      "metadata": {
        "id": "2m3ZFWdHJymo"
      },
      "outputs": [],
      "source": [
        "plt.plot(weights)\n",
        "# plt.xlabel(\"Heights\")\n",
        "plt.ylabel(\"Wights\")\n",
        "plt.title(\"Heights/Weights of students\")\n",
        "plt.show()"
      ]
    },
    {
      "cell_type": "code",
      "execution_count": null,
      "metadata": {
        "id": "48iqdH8X1o4M"
      },
      "outputs": [],
      "source": [
        "plt.subplot(1,3, 1)\n",
        "plt.plot(heights)\n",
        "plt.title(\"Heights Graph\")\n",
        "\n",
        "plt.subplot(1,3, 2)\n",
        "plt.plot(weights)\n",
        "plt.title(\"Weights Graph\")\n",
        "\n",
        "plt.subplot(1,3, 3)\n",
        "plt.plot(weights)\n",
        "plt.title(\"Weights Graph\")\n",
        "\n",
        "plt.show()"
      ]
    },
    {
      "cell_type": "code",
      "execution_count": null,
      "metadata": {
        "id": "LiVGLcn82nwd"
      },
      "outputs": [],
      "source": [
        "plt.subplot(2,1, 1)\n",
        "plt.plot(heights)\n",
        "plt.title(\"Heights Graph\")\n",
        "\n",
        "plt.subplot(2,1, 2)\n",
        "plt.plot(weights)\n",
        "plt.title(\"Weights Graph\")\n",
        "\n",
        "plt.show()"
      ]
    },
    {
      "cell_type": "markdown",
      "metadata": {
        "id": "5tfeIZR23aI9"
      },
      "source": [
        "##Types of graph"
      ]
    },
    {
      "cell_type": "code",
      "execution_count": null,
      "metadata": {
        "colab": {
          "base_uri": "https://localhost:8080/",
          "height": 452
        },
        "id": "vg2DKlCL3Zl-",
        "outputId": "3bf0a195-cd85-4f91-e5b9-8f747e7abe31"
      },
      "outputs": [
        {
          "data": {
            "image/png": "[encoded data removed]",
            "text/plain": [
              "<Figure size 640x480 with 1 Axes>"
            ]
          },
          "metadata": {},
          "output_type": "display_data"
        }
      ],
      "source": [
        "#plot\n",
        "plt.plot(heights, color='blue', marker=\"*\", linestyle=\"--\")\n",
        "# plt.plot(weights, color='green',  marker=\"*\", linestyle=\"--\")\n",
        "plt.title(\"heights Graph\")\n",
        "plt.show()"
      ]
    },
    {
      "cell_type": "code",
      "execution_count": null,
      "metadata": {
        "colab": {
          "base_uri": "https://localhost:8080/",
          "height": 452
        },
        "id": "Ckd2fqN13sy7",
        "outputId": "7894f957-9f6b-40fc-e1a0-87f249ae56c3"
      },
      "outputs": [
        {
          "data": {
            "image/png": "[encoded data removed]",
            "text/plain": [
              "<Figure size 640x480 with 1 Axes>"
            ]
          },
          "metadata": {},
          "output_type": "display_data"
        }
      ],
      "source": [
        "#scatter\n",
        "plt.scatter(heights, weights, c='r', s=100)\n",
        "plt.title(\"heights Graph\")\n",
        "plt.show()"
      ]
    },
    {
      "cell_type": "code",
      "execution_count": null,
      "metadata": {
        "colab": {
          "base_uri": "https://localhost:8080/"
        },
        "id": "JNIByf6l44EX",
        "outputId": "0f29b7e7-ef4e-4299-e462-52b0902c6eac"
      },
      "outputs": [
        {
          "data": {
            "text/plain": [
              "array([ 1,  2,  3,  4,  5,  6,  7,  8,  9, 10, 11, 12, 13, 14, 15, 16, 17,\n",
              "       18, 19])"
            ]
          },
          "execution_count": 130,
          "metadata": {},
          "output_type": "execute_result"
        }
      ],
      "source": [
        "x =  np.arange(1, 20)\n",
        "x"
      ]
    },
    {
      "cell_type": "code",
      "execution_count": null,
      "metadata": {
        "colab": {
          "base_uri": "https://localhost:8080/",
          "height": 430
        },
        "id": "_T9-M5bW5llJ",
        "outputId": "825b06ab-a59c-49b2-d96e-39cdfe65ad65"
      },
      "outputs": [
        {
          "data": {
            "image/png": "[encoded data removed]",
            "text/plain": [
              "<Figure size 640x480 with 1 Axes>"
            ]
          },
          "metadata": {},
          "output_type": "display_data"
        }
      ],
      "source": [
        "# create a graph for\n",
        "# x = [1, 100]\n",
        "# y = x**2\n",
        "# if y is even then its point color should be red otherwise green\n",
        "\n",
        "x = np.linspace(-1,1, 1000)\n",
        "y = x**3\n",
        "for i in range(len(y)):\n",
        "  if i%2== 0:\n",
        "    plt.scatter(x[i], y[i], c='r', s=100)\n",
        "  else:\n",
        "    plt.scatter(x[i], y[i], c='g')\n",
        "\n",
        "plt.show()"
      ]
    },
    {
      "cell_type": "code",
      "execution_count": null,
      "metadata": {
        "colab": {
          "base_uri": "https://localhost:8080/",
          "height": 430
        },
        "id": "n7ZPGy1u8M0P",
        "outputId": "201eb523-5637-47ca-a5af-195b494aad31"
      },
      "outputs": [
        {
          "data": {
            "image/png": "[encoded data removed]",
            "text/plain": [
              "<Figure size 640x480 with 1 Axes>"
            ]
          },
          "metadata": {},
          "output_type": "display_data"
        }
      ],
      "source": [
        "x = np.linspace(-1,1, 1000)\n",
        "y = np.exp(x)\n",
        "plt.scatter(x, y)\n",
        "plt.show()"
      ]
    },
    {
      "cell_type": "code",
      "execution_count": null,
      "metadata": {
        "colab": {
          "base_uri": "https://localhost:8080/",
          "height": 430
        },
        "id": "O9Xppl35Mo7k",
        "outputId": "0d32ebb3-ada9-44c8-b621-e0e883a77c15"
      },
      "outputs": [
        {
          "data": {
            "image/png": "[encoded data removed]",
            "text/plain": [
              "<Figure size 640x480 with 1 Axes>"
            ]
          },
          "metadata": {},
          "output_type": "display_data"
        }
      ],
      "source": [
        "for i in range(len(x)):\n",
        "  if i%2== 0:\n",
        "    plt.scatter(i, i, c='r', s=100)\n",
        "  else:\n",
        "    plt.scatter(i, i, c='g')\n",
        "\n",
        "plt.show()"
      ]
    },
    {
      "cell_type": "code",
      "execution_count": null,
      "metadata": {
        "colab": {
          "background_save": true,
          "base_uri": "https://localhost:8080/",
          "height": 465
        },
        "id": "IO7KeZhh-Wk0",
        "outputId": "9fb3726d-5808-4b32-fc54-f034427c1320"
      },
      "outputs": [
        {
          "data": {
            "image/png": "[encoded data removed]",
            "text/plain": [
              "<Figure size 640x480 with 1 Axes>"
            ]
          },
          "metadata": {},
          "output_type": "display_data"
        }
      ],
      "source": [
        "x = np.arange(-100, 100)\n",
        "y = 1/(1+np.exp(-x))\n",
        "plt.scatter(x,y)\n",
        "plt.show()"
      ]
    },
    {
      "cell_type": "code",
      "execution_count": null,
      "metadata": {
        "id": "zauaLOy3MYlU"
      },
      "outputs": [],
      "source": [
        "num = np.arange(20)\n",
        "num"
      ]
    },
    {
      "cell_type": "code",
      "execution_count": null,
      "metadata": {
        "id": "19pEJo9NMemm"
      },
      "outputs": [],
      "source": [
        "plt.scatter(num, num, c='g',s=50)\n",
        "plt.title(\"num\")\n",
        "plt.show()\n",
        "\n"
      ]
    },
    {
      "cell_type": "code",
      "execution_count": null,
      "metadata": {
        "id": "soCE54EqNYQz"
      },
      "outputs": [],
      "source": [
        "#create a graph where even number point shoul be red and size of the dotted shold be double.\n",
        "num"
      ]
    },
    {
      "cell_type": "code",
      "execution_count": null,
      "metadata": {
        "id": "28ExJokFNa_V"
      },
      "outputs": [],
      "source": [
        "for i in num:\n",
        "  if i%2 ==  0:\n",
        "    plt.scatter(i, i, c='r',s=200)\n",
        "  else:\n",
        "   plt.scatter(i, i, c='g',s=50)\n",
        "\n",
        "plt.show()"
      ]
    },
    {
      "cell_type": "code",
      "execution_count": null,
      "metadata": {
        "id": "jxtj6eM4357_"
      },
      "outputs": [],
      "source": [
        "#bar\n",
        "\n",
        "plt.bar(weights, heights)\n",
        "plt.title(\"heights Graph\")\n",
        "plt.show()"
      ]
    },
    {
      "cell_type": "code",
      "execution_count": null,
      "metadata": {
        "id": "6dlnBOQG4Jmp"
      },
      "outputs": [],
      "source": [
        "x = np.arange(1, 20)\n",
        "y = np.arange(0, 19) + 10\n",
        "\n",
        "for i in range(len(x)):\n",
        "  if x[i]%2 == 0:\n",
        "    plt.scatter(x[i], y[i], c='k', s=20*i)\n",
        "  else:\n",
        "    plt.scatter(x[i], y[i], c='m', s=10*i)\n",
        "plt.show()"
      ]
    },
    {
      "cell_type": "code",
      "execution_count": null,
      "metadata": {
        "id": "wtw38iu-O__Z"
      },
      "outputs": [],
      "source": [
        "x1 = [0]*10000\n",
        "y1 = np.arange(0, 10000)"
      ]
    },
    {
      "cell_type": "code",
      "execution_count": null,
      "metadata": {
        "id": "wGT--pH65OP1"
      },
      "outputs": [],
      "source": [
        "#make an graph for y = x2 + 6\n",
        "\n",
        "x =  np.arange(-100, 100)\n",
        "y = x**2  + 6\n",
        "plt.scatter(x, y, s=2)\n",
        "plt.scatter(x1, y1, s=3)\n",
        "plt.show()\n"
      ]
    },
    {
      "cell_type": "code",
      "execution_count": null,
      "metadata": {
        "id": "nFllUVfR7D0p"
      },
      "outputs": [],
      "source": [
        "x = np.linspace(0, 2*np.pi, 1000)\n",
        "y = np.sin(x)\n",
        "plt.plot(x, y)\n",
        "plt.show()\n"
      ]
    },
    {
      "cell_type": "code",
      "execution_count": null,
      "metadata": {
        "id": "iIV4XmG18MTh"
      },
      "outputs": [],
      "source": [
        "# y = 1 / (1+e^-x)\n",
        "# y = x2 + 4x + 6\n",
        "# y = x/2 + sin(x) + 3\n"
      ]
    },
    {
      "cell_type": "code",
      "execution_count": null,
      "metadata": {
        "id": "NI-IUd3Q88Pq"
      },
      "outputs": [],
      "source": []
    },
    {
      "cell_type": "markdown",
      "metadata": {
        "id": "3Z9Hv4cc9dQu"
      },
      "source": [
        "#Box plot"
      ]
    },
    {
      "cell_type": "code",
      "execution_count": null,
      "metadata": {
        "id": "gobCzjJo9EUw"
      },
      "outputs": [],
      "source": [
        "male_heights = np.random.normal(1.75, 0.20, 10)\n",
        "female_heights = np.random.normal(1.52, 0.17, 10)\n",
        "print(male_heights)\n",
        "print(female_heights)"
      ]
    },
    {
      "cell_type": "code",
      "execution_count": null,
      "metadata": {
        "id": "2yk3xUcp9jiT"
      },
      "outputs": [],
      "source": [
        "plt.boxplot(male_heights)\n",
        "plt.xlabel(\"Heights\")\n",
        "plt.title(\"Heights Graph\")\n",
        "plt.show()"
      ]
    },
    {
      "cell_type": "code",
      "execution_count": null,
      "metadata": {
        "id": "q_M1rnW9-6XB"
      },
      "outputs": [],
      "source": [
        "plt.boxplot(female_heights)\n",
        "plt.xlabel(\"Heights\")\n",
        "plt.title(\"Heights Graph\")\n",
        "plt.show()"
      ]
    },
    {
      "cell_type": "code",
      "execution_count": null,
      "metadata": {
        "id": "EUQ_s01x_Dwy"
      },
      "outputs": [],
      "source": [
        "plt.subplot(1, 2, 1)\n",
        "plt.boxplot(male_heights)\n",
        "plt.xlabel(\"Heights\")\n",
        "plt.subplot(1, 2, 2)\n",
        "plt.boxplot(female_heights)\n",
        "plt.xlabel(\"Heights\")\n",
        "plt.title(\"Heights Graph\")\n",
        "plt.show()\n"
      ]
    },
    {
      "cell_type": "code",
      "execution_count": null,
      "metadata": {
        "id": "Ad26W0GSQq0K"
      },
      "outputs": [],
      "source": []
    }
  ],
  "metadata": {
    "colab": {
      "provenance": []
    },
    "kernelspec": {
      "display_name": "Python 3",
      "name": "python3"
    },
    "language_info": {
      "name": "python"
    }
  },
  "nbformat": 4,
  "nbformat_minor": 0
}